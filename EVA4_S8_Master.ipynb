{
  "nbformat": 4,
  "nbformat_minor": 0,
  "metadata": {
    "kernelspec": {
      "name": "python3",
      "display_name": "Python 3"
    },
    "language_info": {
      "codemirror_mode": {
        "name": "ipython",
        "version": 3
      },
      "file_extension": ".py",
      "mimetype": "text/x-python",
      "name": "python",
      "nbconvert_exporter": "python",
      "pygments_lexer": "ipython3",
      "version": "3.6.6"
    },
    "colab": {
      "name": "EVA4_S8_Master.ipynb",
      "provenance": [],
      "collapsed_sections": [],
      "include_colab_link": true
    },
    "accelerator": "GPU"
  },
  "cells": [
    {
      "cell_type": "markdown",
      "metadata": {
        "id": "view-in-github",
        "colab_type": "text"
      },
      "source": [
        "<a href=\"https://colab.research.google.com/github/aimbsg/EVA4_S8/blob/master/EVA4_S8_Master.ipynb\" target=\"_parent\"><img src=\"https://colab.research.google.com/assets/colab-badge.svg\" alt=\"Open In Colab\"/></a>"
      ]
    },
    {
      "cell_type": "code",
      "metadata": {
        "id": "-yVpodAMpoCi",
        "colab_type": "code",
        "outputId": "004de022-6dd7-4601-9ff9-6a6b2c4dc4b9",
        "colab": {
          "base_uri": "https://localhost:8080/",
          "height": 34
        }
      },
      "source": [
        "import torch\n",
        "import torchvision\n",
        "import torchvision.transforms as transforms\n",
        "import torch.optim as optim\n",
        "import torch.nn as nn\n",
        "import torch.nn.functional as F\n",
        "import matplotlib.pyplot as plt\n",
        "import numpy as np\n",
        "import torchvision.models as models\n",
        "!pip install torchsummary\n",
        "from torchsummary import summary\n",
        "import EVA4_S8_backbone as backbone \n",
        "%matplotlib inline"
      ],
      "execution_count": 1,
      "outputs": [
        {
          "output_type": "stream",
          "text": [
            "Requirement already satisfied: torchsummary in /usr/local/lib/python3.6/dist-packages (1.5.1)\n"
          ],
          "name": "stdout"
        }
      ]
    },
    {
      "cell_type": "markdown",
      "metadata": {
        "id": "5kjt4e2TpoCk",
        "colab_type": "text"
      },
      "source": [
        "The output of torchvision datasets are PILImage images of range [0, 1].\n",
        "We transform them to Tensors of normalized range [-1, 1].\n",
        "\n"
      ]
    },
    {
      "cell_type": "code",
      "metadata": {
        "id": "D8Tjigo2poCl",
        "colab_type": "code",
        "outputId": "09a2958a-bd4b-4bf9-d57e-0f943982fde9",
        "colab": {
          "base_uri": "https://localhost:8080/",
          "height": 51
        }
      },
      "source": [
        "train_transform = transforms.Compose([\n",
        "    transforms.RandomCrop(32, padding=4),\n",
        "    transforms.RandomHorizontalFlip(),\n",
        "    transforms.ToTensor(),\n",
        "    transforms.Normalize((0.4914, 0.4822, 0.4465), (0.2023, 0.1994, 0.2010)),\n",
        "])\n",
        "\n",
        "test_transform = transforms.Compose([\n",
        "    transforms.ToTensor(),\n",
        "    transforms.Normalize((0.4914, 0.4822, 0.4465), (0.2023, 0.1994, 0.2010)),\n",
        "])\n",
        "\n",
        "trainset = torchvision.datasets.CIFAR10(root='./data', train=True,\n",
        "                                        download=True, transform=train_transform)\n",
        "trainloader = torch.utils.data.DataLoader(trainset, batch_size=32,\n",
        "                                          shuffle=True, num_workers=2)\n",
        "\n",
        "testset = torchvision.datasets.CIFAR10(root='./data', train=False,\n",
        "                                       download=True, transform=test_transform)\n",
        "testloader = torch.utils.data.DataLoader(testset, batch_size=32,\n",
        "                                         shuffle=False, num_workers=2)\n",
        "\n",
        "classes = ('plane', 'car', 'bird', 'cat',\n",
        "           'deer', 'dog', 'frog', 'horse', 'ship', 'truck')"
      ],
      "execution_count": 2,
      "outputs": [
        {
          "output_type": "stream",
          "text": [
            "Files already downloaded and verified\n",
            "Files already downloaded and verified\n"
          ],
          "name": "stdout"
        }
      ]
    },
    {
      "cell_type": "markdown",
      "metadata": {
        "id": "_cj433rtpoCn",
        "colab_type": "text"
      },
      "source": [
        "Let us show some of the training images, for fun.\n",
        "\n"
      ]
    },
    {
      "cell_type": "code",
      "metadata": {
        "id": "daA7bADhpoCo",
        "colab_type": "code",
        "outputId": "58e8388e-5a3a-46f3-d9f1-3a94fd6d4f5d",
        "colab": {
          "base_uri": "https://localhost:8080/",
          "height": 271
        }
      },
      "source": [
        "# functions to show an image\n",
        "\n",
        "def imshow(img):\n",
        "    img = img / 2 + 0.5     # unnormalize\n",
        "    npimg = img.numpy()\n",
        "    plt.imshow(np.transpose(npimg, (1, 2, 0)))\n",
        "\n",
        "# get some random training images\n",
        "dataiter = iter(trainloader)\n",
        "images, labels = dataiter.next()\n",
        "\n",
        "# show images\n",
        "imshow(torchvision.utils.make_grid(images))\n",
        "# print labels\n",
        "print(' '.join('%5s' % classes[labels[j]] for j in range(4)))\n",
        "\n",
        "images.shape"
      ],
      "execution_count": 3,
      "outputs": [
        {
          "output_type": "stream",
          "text": [
            "Clipping input data to the valid range for imshow with RGB data ([0..1] for floats or [0..255] for integers).\n"
          ],
          "name": "stderr"
        },
        {
          "output_type": "stream",
          "text": [
            "truck horse   dog plane\n"
          ],
          "name": "stdout"
        },
        {
          "output_type": "execute_result",
          "data": {
            "text/plain": [
              "torch.Size([32, 3, 32, 32])"
            ]
          },
          "metadata": {
            "tags": []
          },
          "execution_count": 3
        },
        {
          "output_type": "display_data",
          "data": {
            "image/png": "[encoded data removed]",
            "text/plain": [
              "<Figure size 432x288 with 1 Axes>"
            ]
          },
          "metadata": {
            "tags": []
          }
        }
      ]
    },
    {
      "cell_type": "code",
      "metadata": {
        "id": "Zy5uZCtc4Rds",
        "colab_type": "code",
        "outputId": "28f4ae70-c048-48ac-c376-b8c20775e1a3",
        "colab": {
          "base_uri": "https://localhost:8080/",
          "height": 187
        }
      },
      "source": [
        "from google.colab import drive\n",
        "drive.mount('/content/gdrive', force_remount=True)\n",
        "my_path = \"/content/gdrive/My Drive/EVA4_S7_CIFAR10_Moduled\"\n",
        "import sys\n",
        "sys.path.append(my_path)\n",
        "!ls /content/gdrive/My\\ Drive/EVA4_S7_CIFAR10_Moduled"
      ],
      "execution_count": 4,
      "outputs": [
        {
          "output_type": "stream",
          "text": [
            "Mounted at /content/gdrive\n",
            " backbone.py\t\t   EVA4_S7_Master.ipynb\n",
            " callhello.ipynb\t   eva4_s8_model_save_100epochs.pth\n",
            " class_acc.py\t\t   eva4_s8_model_save_125epochs.pth\n",
            "'Copy of backbone.py'\t   eva4_s8_model_save_50.pth\n",
            "'Copy of class_acc.py'\t   printhello.ipynb\n",
            "'Copy of train_block.py'   __pycache__\n",
            "'Copy of val_block.py'\t   train_block.py\n",
            " EVA4_S7_backbone.py\t   val_block.py\n",
            " EVA4_S7_Main_File.ipynb\n"
          ],
          "name": "stdout"
        }
      ]
    },
    {
      "cell_type": "code",
      "metadata": {
        "id": "scQfX3xihL-o",
        "colab_type": "code",
        "outputId": "4550dac4-2c50-40fc-cb31-4d3b12654358",
        "colab": {
          "base_uri": "https://localhost:8080/",
          "height": 1000
        }
      },
      "source": [
        "use_cuda = torch.cuda.is_available()\n",
        "device = torch.device(\"cuda\" if use_cuda else \"cpu\")\n",
        "print(device)\n",
        "model = models.resnet18().to(device)\n",
        "# model = EVA4_S7_backbone.Net().to(device)\n",
        "summary(model, input_size=(3, 32, 32))"
      ],
      "execution_count": 5,
      "outputs": [
        {
          "output_type": "stream",
          "text": [
            "cuda\n",
            "----------------------------------------------------------------\n",
            "        Layer (type)               Output Shape         Param #\n",
            "================================================================\n",
            "            Conv2d-1           [-1, 64, 16, 16]           9,408\n",
            "       BatchNorm2d-2           [-1, 64, 16, 16]             128\n",
            "              ReLU-3           [-1, 64, 16, 16]               0\n",
            "         MaxPool2d-4             [-1, 64, 8, 8]               0\n",
            "            Conv2d-5             [-1, 64, 8, 8]          36,864\n",
            "       BatchNorm2d-6             [-1, 64, 8, 8]             128\n",
            "              ReLU-7             [-1, 64, 8, 8]               0\n",
            "            Conv2d-8             [-1, 64, 8, 8]          36,864\n",
            "       BatchNorm2d-9             [-1, 64, 8, 8]             128\n",
            "             ReLU-10             [-1, 64, 8, 8]               0\n",
            "       BasicBlock-11             [-1, 64, 8, 8]               0\n",
            "           Conv2d-12             [-1, 64, 8, 8]          36,864\n",
            "      BatchNorm2d-13             [-1, 64, 8, 8]             128\n",
            "             ReLU-14             [-1, 64, 8, 8]               0\n",
            "           Conv2d-15             [-1, 64, 8, 8]          36,864\n",
            "      BatchNorm2d-16             [-1, 64, 8, 8]             128\n",
            "             ReLU-17             [-1, 64, 8, 8]               0\n",
            "       BasicBlock-18             [-1, 64, 8, 8]               0\n",
            "           Conv2d-19            [-1, 128, 4, 4]          73,728\n",
            "      BatchNorm2d-20            [-1, 128, 4, 4]             256\n",
            "             ReLU-21            [-1, 128, 4, 4]               0\n",
            "           Conv2d-22            [-1, 128, 4, 4]         147,456\n",
            "      BatchNorm2d-23            [-1, 128, 4, 4]             256\n",
            "           Conv2d-24            [-1, 128, 4, 4]           8,192\n",
            "      BatchNorm2d-25            [-1, 128, 4, 4]             256\n",
            "             ReLU-26            [-1, 128, 4, 4]               0\n",
            "       BasicBlock-27            [-1, 128, 4, 4]               0\n",
            "           Conv2d-28            [-1, 128, 4, 4]         147,456\n",
            "      BatchNorm2d-29            [-1, 128, 4, 4]             256\n",
            "             ReLU-30            [-1, 128, 4, 4]               0\n",
            "           Conv2d-31            [-1, 128, 4, 4]         147,456\n",
            "      BatchNorm2d-32            [-1, 128, 4, 4]             256\n",
            "             ReLU-33            [-1, 128, 4, 4]               0\n",
            "       BasicBlock-34            [-1, 128, 4, 4]               0\n",
            "           Conv2d-35            [-1, 256, 2, 2]         294,912\n",
            "      BatchNorm2d-36            [-1, 256, 2, 2]             512\n",
            "             ReLU-37            [-1, 256, 2, 2]               0\n",
            "           Conv2d-38            [-1, 256, 2, 2]         589,824\n",
            "      BatchNorm2d-39            [-1, 256, 2, 2]             512\n",
            "           Conv2d-40            [-1, 256, 2, 2]          32,768\n",
            "      BatchNorm2d-41            [-1, 256, 2, 2]             512\n",
            "             ReLU-42            [-1, 256, 2, 2]               0\n",
            "       BasicBlock-43            [-1, 256, 2, 2]               0\n",
            "           Conv2d-44            [-1, 256, 2, 2]         589,824\n",
            "      BatchNorm2d-45            [-1, 256, 2, 2]             512\n",
            "             ReLU-46            [-1, 256, 2, 2]               0\n",
            "           Conv2d-47            [-1, 256, 2, 2]         589,824\n",
            "      BatchNorm2d-48            [-1, 256, 2, 2]             512\n",
            "             ReLU-49            [-1, 256, 2, 2]               0\n",
            "       BasicBlock-50            [-1, 256, 2, 2]               0\n",
            "           Conv2d-51            [-1, 512, 1, 1]       1,179,648\n",
            "      BatchNorm2d-52            [-1, 512, 1, 1]           1,024\n",
            "             ReLU-53            [-1, 512, 1, 1]               0\n",
            "           Conv2d-54            [-1, 512, 1, 1]       2,359,296\n",
            "      BatchNorm2d-55            [-1, 512, 1, 1]           1,024\n",
            "           Conv2d-56            [-1, 512, 1, 1]         131,072\n",
            "      BatchNorm2d-57            [-1, 512, 1, 1]           1,024\n",
            "             ReLU-58            [-1, 512, 1, 1]               0\n",
            "       BasicBlock-59            [-1, 512, 1, 1]               0\n",
            "           Conv2d-60            [-1, 512, 1, 1]       2,359,296\n",
            "      BatchNorm2d-61            [-1, 512, 1, 1]           1,024\n",
            "             ReLU-62            [-1, 512, 1, 1]               0\n",
            "           Conv2d-63            [-1, 512, 1, 1]       2,359,296\n",
            "      BatchNorm2d-64            [-1, 512, 1, 1]           1,024\n",
            "             ReLU-65            [-1, 512, 1, 1]               0\n",
            "       BasicBlock-66            [-1, 512, 1, 1]               0\n",
            "AdaptiveAvgPool2d-67            [-1, 512, 1, 1]               0\n",
            "           Linear-68                 [-1, 1000]         513,000\n",
            "================================================================\n",
            "Total params: 11,689,512\n",
            "Trainable params: 11,689,512\n",
            "Non-trainable params: 0\n",
            "----------------------------------------------------------------\n",
            "Input size (MB): 0.01\n",
            "Forward/backward pass size (MB): 1.29\n",
            "Params size (MB): 44.59\n",
            "Estimated Total Size (MB): 45.90\n",
            "----------------------------------------------------------------\n"
          ],
          "name": "stdout"
        }
      ]
    },
    {
      "cell_type": "code",
      "metadata": {
        "id": "M4xBbDROpoCv",
        "colab_type": "code",
        "colab": {}
      },
      "source": [
        "criterion = nn.CrossEntropyLoss()\n",
        "optimizer = optim.SGD(model.parameters(), lr=0.001, momentum=0.9)"
      ],
      "execution_count": 0,
      "outputs": []
    },
    {
      "cell_type": "code",
      "metadata": {
        "id": "i_8lMA81NCBp",
        "colab_type": "code",
        "colab": {
          "base_uri": "https://localhost:8080/",
          "height": 884
        },
        "outputId": "5ba8eaf5-6c66-4666-a98e-500bc108b2ce"
      },
      "source": [
        "for epoch in range(50):  # loop over the dataset multiple times  \n",
        "    backbone.train(model,device,trainloader,optimizer,criterion,epoch,model_loss = 0.0)\n",
        "print('Training Complete')"
      ],
      "execution_count": 9,
      "outputs": [
        {
          "output_type": "stream",
          "text": [
            "[1,  1500] loss: 1.350\n",
            "[2,  1500] loss: 1.092\n",
            "[3,  1500] loss: 0.984\n",
            "[4,  1500] loss: 0.905\n",
            "[5,  1500] loss: 0.839\n",
            "[6,  1500] loss: 0.784\n",
            "[7,  1500] loss: 0.746\n",
            "[8,  1500] loss: 0.709\n",
            "[9,  1500] loss: 0.678\n",
            "[10,  1500] loss: 0.653\n",
            "[11,  1500] loss: 0.629\n",
            "[12,  1500] loss: 0.611\n",
            "[13,  1500] loss: 0.588\n",
            "[14,  1500] loss: 0.572\n",
            "[15,  1500] loss: 0.553\n",
            "[16,  1500] loss: 0.541\n",
            "[17,  1500] loss: 0.522\n",
            "[18,  1500] loss: 0.510\n",
            "[19,  1500] loss: 0.499\n",
            "[20,  1500] loss: 0.485\n",
            "[21,  1500] loss: 0.479\n",
            "[22,  1500] loss: 0.470\n",
            "[23,  1500] loss: 0.459\n",
            "[24,  1500] loss: 0.449\n",
            "[25,  1500] loss: 0.444\n",
            "[26,  1500] loss: 0.430\n",
            "[27,  1500] loss: 0.421\n",
            "[28,  1500] loss: 0.415\n",
            "[29,  1500] loss: 0.408\n",
            "[30,  1500] loss: 0.403\n",
            "[31,  1500] loss: 0.393\n",
            "[32,  1500] loss: 0.388\n",
            "[33,  1500] loss: 0.380\n",
            "[34,  1500] loss: 0.369\n",
            "[35,  1500] loss: 0.367\n",
            "[36,  1500] loss: 0.358\n",
            "[37,  1500] loss: 0.351\n",
            "[38,  1500] loss: 0.350\n",
            "[39,  1500] loss: 0.343\n",
            "[40,  1500] loss: 0.337\n",
            "[41,  1500] loss: 0.335\n",
            "[42,  1500] loss: 0.328\n",
            "[43,  1500] loss: 0.322\n",
            "[44,  1500] loss: 0.317\n",
            "[45,  1500] loss: 0.313\n",
            "[46,  1500] loss: 0.302\n",
            "[47,  1500] loss: 0.297\n",
            "[48,  1500] loss: 0.297\n",
            "[49,  1500] loss: 0.293\n",
            "[50,  1500] loss: 0.289\n",
            "Training Complete\n"
          ],
          "name": "stdout"
        }
      ]
    },
    {
      "cell_type": "code",
      "metadata": {
        "id": "yVJvSrucAXzh",
        "colab_type": "code",
        "colab": {
          "base_uri": "https://localhost:8080/",
          "height": 34
        },
        "outputId": "070fbee4-0690-4974-ef5b-bae4942c8254"
      },
      "source": [
        "backbone.val_acc(testloader,model,device)"
      ],
      "execution_count": 10,
      "outputs": [
        {
          "output_type": "stream",
          "text": [
            "Accuracy of the network on the 10000 test images: 77.640000 %\n"
          ],
          "name": "stdout"
        }
      ]
    },
    {
      "cell_type": "code",
      "metadata": {
        "id": "tnSMA6zA9lAc",
        "colab_type": "code",
        "colab": {}
      },
      "source": [
        "checkpoint_path_50 = \"/content/gdrive/My Drive/EVA4_S7_CIFAR10_Moduled/eva4_s8_model_save_50.pth\""
      ],
      "execution_count": 0,
      "outputs": []
    },
    {
      "cell_type": "code",
      "metadata": {
        "id": "qUnJUUPV8LRm",
        "colab_type": "code",
        "colab": {}
      },
      "source": [
        "valid_loss = 0.289 #Manually saving the last loss\n",
        "checkpoint_50 = {\n",
        "            'epoch': epoch + 1,\n",
        "            'valid_loss_min': valid_loss,\n",
        "            'state_dict': model.state_dict(),\n",
        "            'optimizer': optimizer.state_dict(),\n",
        "        }      "
      ],
      "execution_count": 0,
      "outputs": []
    },
    {
      "cell_type": "code",
      "metadata": {
        "id": "ITwcaTqd8AfD",
        "colab_type": "code",
        "colab": {}
      },
      "source": [
        "# save checkpoint\n",
        "backbone.save_ckp(checkpoint_50, checkpoint_path_50)"
      ],
      "execution_count": 0,
      "outputs": []
    },
    {
      "cell_type": "code",
      "metadata": {
        "id": "Ru7csMBAET2l",
        "colab_type": "code",
        "colab": {}
      },
      "source": [
        "model, optimizer, start_epoch, valid_loss = load_ckp(checkpoint_path_50, model, optimizer)"
      ],
      "execution_count": 0,
      "outputs": []
    },
    {
      "cell_type": "code",
      "metadata": {
        "id": "c1meUbADu1Jb",
        "colab_type": "code",
        "colab": {}
      },
      "source": [
        "criterion = nn.CrossEntropyLoss()\n",
        "optimizer = optim.SGD(model.parameters(), lr=0.0001, momentum=0.9)"
      ],
      "execution_count": 0,
      "outputs": []
    },
    {
      "cell_type": "code",
      "metadata": {
        "id": "Swmt0GsOG2mn",
        "colab_type": "code",
        "outputId": "e01395e8-dfcf-49bc-8c3b-ede6ff6e66e1",
        "colab": {
          "base_uri": "https://localhost:8080/",
          "height": 884
        }
      },
      "source": [
        "for epoch in range(start_epoch,100):  # loop over the dataset multiple times  \n",
        "    backbone.train(model,device,trainloader,optimizer,criterion,epoch,model_loss = valid_loss)\n",
        "print('Training Complete')"
      ],
      "execution_count": 22,
      "outputs": [
        {
          "output_type": "stream",
          "text": [
            "[51,  1500] loss: 0.243\n",
            "[52,  1500] loss: 0.227\n",
            "[53,  1500] loss: 0.222\n",
            "[54,  1500] loss: 0.217\n",
            "[55,  1500] loss: 0.214\n",
            "[56,  1500] loss: 0.209\n",
            "[57,  1500] loss: 0.207\n",
            "[58,  1500] loss: 0.206\n",
            "[59,  1500] loss: 0.203\n",
            "[60,  1500] loss: 0.200\n",
            "[61,  1500] loss: 0.200\n",
            "[62,  1500] loss: 0.200\n",
            "[63,  1500] loss: 0.197\n",
            "[64,  1500] loss: 0.192\n",
            "[65,  1500] loss: 0.194\n",
            "[66,  1500] loss: 0.190\n",
            "[67,  1500] loss: 0.194\n",
            "[68,  1500] loss: 0.189\n",
            "[69,  1500] loss: 0.186\n",
            "[70,  1500] loss: 0.185\n",
            "[71,  1500] loss: 0.185\n",
            "[72,  1500] loss: 0.185\n",
            "[73,  1500] loss: 0.186\n",
            "[74,  1500] loss: 0.180\n",
            "[75,  1500] loss: 0.182\n",
            "[76,  1500] loss: 0.180\n",
            "[77,  1500] loss: 0.180\n",
            "[78,  1500] loss: 0.178\n",
            "[79,  1500] loss: 0.178\n",
            "[80,  1500] loss: 0.176\n",
            "[81,  1500] loss: 0.174\n",
            "[82,  1500] loss: 0.174\n",
            "[83,  1500] loss: 0.172\n",
            "[84,  1500] loss: 0.172\n",
            "[85,  1500] loss: 0.172\n",
            "[86,  1500] loss: 0.170\n",
            "[87,  1500] loss: 0.166\n",
            "[88,  1500] loss: 0.169\n",
            "[89,  1500] loss: 0.166\n",
            "[90,  1500] loss: 0.165\n",
            "[91,  1500] loss: 0.166\n",
            "[92,  1500] loss: 0.161\n",
            "[93,  1500] loss: 0.160\n",
            "[94,  1500] loss: 0.161\n",
            "[95,  1500] loss: 0.160\n",
            "[96,  1500] loss: 0.160\n",
            "[97,  1500] loss: 0.156\n",
            "[98,  1500] loss: 0.158\n",
            "[99,  1500] loss: 0.158\n",
            "[100,  1500] loss: 0.153\n",
            "Training Complete\n"
          ],
          "name": "stdout"
        }
      ]
    },
    {
      "cell_type": "code",
      "metadata": {
        "id": "cH1NVkx6NZ5X",
        "colab_type": "code",
        "colab": {}
      },
      "source": [
        "checkpoint_path_100 = \"/content/gdrive/My Drive/EVA4_S7_CIFAR10_Moduled/eva4_s8_model_save_100epochs.pth\""
      ],
      "execution_count": 0,
      "outputs": []
    },
    {
      "cell_type": "code",
      "metadata": {
        "id": "xTODFB2zNgXQ",
        "colab_type": "code",
        "colab": {}
      },
      "source": [
        "valid_loss = 0.153 #Manually saving the last loss\n",
        "checkpoint_100 = {\n",
        "            'epoch': epoch + 1,\n",
        "            'valid_loss_min': valid_loss,\n",
        "            'state_dict': model.state_dict(),\n",
        "            'optimizer': optimizer.state_dict(),\n",
        "        }      "
      ],
      "execution_count": 0,
      "outputs": []
    },
    {
      "cell_type": "code",
      "metadata": {
        "id": "Dujf1DhvNmbv",
        "colab_type": "code",
        "colab": {}
      },
      "source": [
        "# save checkpoint\n",
        "backbone.save_ckp(checkpoint_100, checkpoint_path_100)"
      ],
      "execution_count": 0,
      "outputs": []
    },
    {
      "cell_type": "code",
      "metadata": {
        "id": "xezzE3iBPzCV",
        "colab_type": "code",
        "outputId": "44cebe9d-1428-4567-ccdd-96e749ef1e37",
        "colab": {
          "base_uri": "https://localhost:8080/",
          "height": 34
        }
      },
      "source": [
        "backbone.val_acc(testloader,model,device)"
      ],
      "execution_count": 0,
      "outputs": [
        {
          "output_type": "stream",
          "text": [
            "Accuracy of the network on the 10000 test images: 79.300000 %\n"
          ],
          "name": "stdout"
        }
      ]
    },
    {
      "cell_type": "code",
      "metadata": {
        "id": "5Xo7XkYYPUEm",
        "colab_type": "code",
        "colab": {}
      },
      "source": [
        "model, optimizer, start_epoch, valid_loss = load_ckp(checkpoint_path_100, model, optimizer)"
      ],
      "execution_count": 0,
      "outputs": []
    },
    {
      "cell_type": "code",
      "metadata": {
        "id": "mjjgfBNyTAdA",
        "colab_type": "code",
        "colab": {}
      },
      "source": [
        "criterion = nn.CrossEntropyLoss()\n",
        "optimizer = optim.SGD(model.parameters(), lr=0.00001, momentum=0.9)"
      ],
      "execution_count": 0,
      "outputs": []
    },
    {
      "cell_type": "code",
      "metadata": {
        "id": "_FdWiaXtPc4Y",
        "colab_type": "code",
        "colab": {
          "base_uri": "https://localhost:8080/",
          "height": 459
        },
        "outputId": "eff4d170-8865-4307-ad96-3d86481c0e72"
      },
      "source": [
        "for epoch in range(start_epoch,125):  # loop over the dataset multiple times  \n",
        "    backbone.train(model,device,trainloader,optimizer,criterion,epoch,model_loss = valid_loss)\n",
        "print('Training Complete')"
      ],
      "execution_count": 18,
      "outputs": [
        {
          "output_type": "stream",
          "text": [
            "[101,  1500] loss: 0.175\n",
            "[102,  1500] loss: 0.173\n",
            "[103,  1500] loss: 0.172\n",
            "[104,  1500] loss: 0.172\n",
            "[105,  1500] loss: 0.172\n",
            "[106,  1500] loss: 0.170\n",
            "[107,  1500] loss: 0.169\n",
            "[108,  1500] loss: 0.170\n",
            "[109,  1500] loss: 0.169\n",
            "[110,  1500] loss: 0.170\n",
            "[111,  1500] loss: 0.171\n",
            "[112,  1500] loss: 0.170\n",
            "[113,  1500] loss: 0.169\n",
            "[114,  1500] loss: 0.168\n",
            "[115,  1500] loss: 0.167\n",
            "[116,  1500] loss: 0.168\n",
            "[117,  1500] loss: 0.168\n",
            "[118,  1500] loss: 0.169\n",
            "[119,  1500] loss: 0.168\n",
            "[120,  1500] loss: 0.167\n",
            "[121,  1500] loss: 0.166\n",
            "[122,  1500] loss: 0.169\n",
            "[123,  1500] loss: 0.168\n",
            "[124,  1500] loss: 0.167\n",
            "[125,  1500] loss: 0.167\n",
            "Training Complete\n"
          ],
          "name": "stdout"
        }
      ]
    },
    {
      "cell_type": "code",
      "metadata": {
        "id": "8CyGisQx2qfC",
        "colab_type": "code",
        "colab": {
          "base_uri": "https://localhost:8080/",
          "height": 34
        },
        "outputId": "b58294d9-20f5-4d23-e9fb-2ce99e9bc719"
      },
      "source": [
        "backbone.val_acc(testloader,model,device)"
      ],
      "execution_count": 19,
      "outputs": [
        {
          "output_type": "stream",
          "text": [
            "Accuracy of the network on the 10000 test images: 83.690000 %\n"
          ],
          "name": "stdout"
        }
      ]
    },
    {
      "cell_type": "code",
      "metadata": {
        "id": "ZYr0xOsT3M5j",
        "colab_type": "code",
        "colab": {}
      },
      "source": [
        "checkpoint_path_125 = \"/content/gdrive/My Drive/EVA4_S7_CIFAR10_Moduled/eva4_s8_model_save_125epochs.pth\""
      ],
      "execution_count": 0,
      "outputs": []
    },
    {
      "cell_type": "code",
      "metadata": {
        "id": "odUamajY3Tzp",
        "colab_type": "code",
        "colab": {}
      },
      "source": [
        "valid_loss = 0.167 #Manually saving the last loss\n",
        "checkpoint_125 = {\n",
        "            'epoch': epoch + 1,\n",
        "            'valid_loss_min': valid_loss,\n",
        "            'state_dict': model.state_dict(),\n",
        "            'optimizer': optimizer.state_dict(),\n",
        "        }      "
      ],
      "execution_count": 0,
      "outputs": []
    },
    {
      "cell_type": "code",
      "metadata": {
        "id": "rP2raWzR3e-_",
        "colab_type": "code",
        "colab": {}
      },
      "source": [
        "# save checkpoint\n",
        "backbone.save_ckp(checkpoint_125, checkpoint_path_125)"
      ],
      "execution_count": 0,
      "outputs": []
    },
    {
      "cell_type": "code",
      "metadata": {
        "id": "xbg0WFg53n5y",
        "colab_type": "code",
        "colab": {}
      },
      "source": [
        "model, optimizer, start_epoch, valid_loss = load_ckp(checkpoint_path_125, model, optimizer)"
      ],
      "execution_count": 0,
      "outputs": []
    },
    {
      "cell_type": "code",
      "metadata": {
        "id": "OQVUDz3P3ri6",
        "colab_type": "code",
        "colab": {}
      },
      "source": [
        "criterion = nn.CrossEntropyLoss()\n",
        "optimizer = optim.SGD(model.parameters(), lr=0.01, momentum=0.9)"
      ],
      "execution_count": 0,
      "outputs": []
    },
    {
      "cell_type": "code",
      "metadata": {
        "id": "nhSDfc643zkL",
        "colab_type": "code",
        "colab": {
          "base_uri": "https://localhost:8080/",
          "height": 1000
        },
        "outputId": "a0451322-83ae-4550-9368-a688afe0eb9c"
      },
      "source": [
        "for epoch in range(start_epoch,200):  # loop over the dataset multiple times  \n",
        "    backbone.train(model,device,trainloader,optimizer,criterion,epoch,model_loss = valid_loss)\n",
        "print('Training Complete')"
      ],
      "execution_count": 31,
      "outputs": [
        {
          "output_type": "stream",
          "text": [
            "[126,  1500] loss: 0.226\n",
            "[127,  1500] loss: 0.232\n",
            "[128,  1500] loss: 0.224\n",
            "[129,  1500] loss: 0.218\n",
            "[130,  1500] loss: 0.220\n",
            "[131,  1500] loss: 0.214\n",
            "[132,  1500] loss: 0.213\n",
            "[133,  1500] loss: 0.210\n",
            "[134,  1500] loss: 0.204\n",
            "[135,  1500] loss: 0.201\n",
            "[136,  1500] loss: 0.199\n",
            "[137,  1500] loss: 0.195\n",
            "[138,  1500] loss: 0.196\n",
            "[139,  1500] loss: 0.192\n",
            "[140,  1500] loss: 0.190\n",
            "[141,  1500] loss: 0.186\n",
            "[142,  1500] loss: 0.185\n",
            "[143,  1500] loss: 0.182\n",
            "[144,  1500] loss: 0.184\n",
            "[145,  1500] loss: 0.178\n",
            "[146,  1500] loss: 0.171\n",
            "[147,  1500] loss: 0.169\n",
            "[148,  1500] loss: 0.167\n",
            "[149,  1500] loss: 0.168\n",
            "[150,  1500] loss: 0.169\n",
            "[151,  1500] loss: 0.163\n",
            "[152,  1500] loss: 0.162\n",
            "[153,  1500] loss: 0.160\n",
            "[154,  1500] loss: 0.158\n",
            "[155,  1500] loss: 0.155\n",
            "[156,  1500] loss: 0.155\n",
            "[157,  1500] loss: 0.151\n",
            "[158,  1500] loss: 0.150\n",
            "[159,  1500] loss: 0.148\n",
            "[160,  1500] loss: 0.146\n",
            "[161,  1500] loss: 0.144\n",
            "[162,  1500] loss: 0.145\n",
            "[163,  1500] loss: 0.144\n",
            "[164,  1500] loss: 0.140\n",
            "[165,  1500] loss: 0.140\n",
            "[166,  1500] loss: 0.138\n",
            "[167,  1500] loss: 0.138\n",
            "[168,  1500] loss: 0.138\n",
            "[169,  1500] loss: 0.137\n",
            "[170,  1500] loss: 0.130\n",
            "[171,  1500] loss: 0.129\n",
            "[172,  1500] loss: 0.127\n",
            "[173,  1500] loss: 0.125\n",
            "[174,  1500] loss: 0.128\n",
            "[175,  1500] loss: 0.124\n",
            "[176,  1500] loss: 0.124\n",
            "[177,  1500] loss: 0.125\n",
            "[178,  1500] loss: 0.116\n",
            "[179,  1500] loss: 0.119\n",
            "[180,  1500] loss: 0.114\n",
            "[181,  1500] loss: 0.118\n",
            "[182,  1500] loss: 0.116\n",
            "[183,  1500] loss: 0.117\n",
            "[184,  1500] loss: 0.112\n",
            "[185,  1500] loss: 0.113\n",
            "[186,  1500] loss: 0.113\n",
            "[187,  1500] loss: 0.110\n",
            "[188,  1500] loss: 0.109\n",
            "[189,  1500] loss: 0.108\n",
            "[190,  1500] loss: 0.106\n",
            "[191,  1500] loss: 0.105\n",
            "[192,  1500] loss: 0.105\n",
            "[193,  1500] loss: 0.104\n",
            "[194,  1500] loss: 0.103\n",
            "[195,  1500] loss: 0.102\n",
            "[196,  1500] loss: 0.101\n",
            "[197,  1500] loss: 0.100\n",
            "[198,  1500] loss: 0.098\n",
            "[199,  1500] loss: 0.097\n",
            "[200,  1500] loss: 0.097\n",
            "Training Complete\n"
          ],
          "name": "stdout"
        }
      ]
    },
    {
      "cell_type": "code",
      "metadata": {
        "id": "gPzSun8KioAw",
        "colab_type": "code",
        "colab": {
          "base_uri": "https://localhost:8080/",
          "height": 34
        },
        "outputId": "514ca768-ae66-4519-9ee6-f870dfea1e77"
      },
      "source": [
        "backbone.val_acc(testloader,model,device)"
      ],
      "execution_count": 35,
      "outputs": [
        {
          "output_type": "stream",
          "text": [
            "Accuracy of the network on the 10000 test images: 85.130000 %\n"
          ],
          "name": "stdout"
        }
      ]
    },
    {
      "cell_type": "code",
      "metadata": {
        "id": "hOd12mgl_MHV",
        "colab_type": "code",
        "outputId": "5f7dd889-5ccd-4243-f3d8-9f47b6c5c85b",
        "colab": {
          "base_uri": "https://localhost:8080/",
          "height": 187
        }
      },
      "source": [
        "backbone.class_acc(testloader,model,device,classes)"
      ],
      "execution_count": 34,
      "outputs": [
        {
          "output_type": "stream",
          "text": [
            "Accuracy of plane : 86 %\n",
            "Accuracy of   car : 90 %\n",
            "Accuracy of  bird : 74 %\n",
            "Accuracy of   cat : 68 %\n",
            "Accuracy of  deer : 74 %\n",
            "Accuracy of   dog : 70 %\n",
            "Accuracy of  frog : 82 %\n",
            "Accuracy of horse : 85 %\n",
            "Accuracy of  ship : 91 %\n",
            "Accuracy of truck : 97 %\n"
          ],
          "name": "stdout"
        }
      ]
    }
  ]
}